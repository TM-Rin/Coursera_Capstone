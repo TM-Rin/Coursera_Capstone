{
    "cells": [
        {
            "cell_type": "markdown",
            "metadata": {
                "collapsed": true
            },
            "source": "## Introduction"
        },
        {
            "cell_type": "markdown",
            "metadata": {},
            "source": "*Final assigment ideas inspire my own, slightly different one. I would like to find best places to open new cafeteria in the biggest city in my country - Moscow.*\n\nMoscow city have aproximate 2500 square km area and nearly 13 million population.\nFor people who want to start new business, in our example a cafeteria, it is quite hard to find a \"good place\".\n\n\"Good place\" is a broad term, it is including:\n- flow of people\n- location of other cafeterias around\n- location of parks and other zones where people can buy coffee with them and enjoy a walk there\n- location of business centers and living quaters\n- good view from cafeteria\n- etc\n\nFor business which mostly work with people, finding a place with big flow of people and many other positive factors is a half a success."
        }
    ],
    "metadata": {
        "kernelspec": {
            "display_name": "Python 3.7",
            "language": "python",
            "name": "python3"
        },
        "language_info": {
            "codemirror_mode": {
                "name": "ipython",
                "version": 3
            },
            "file_extension": ".py",
            "mimetype": "text/x-python",
            "name": "python",
            "nbconvert_exporter": "python",
            "pygments_lexer": "ipython3",
            "version": "3.7.10"
        }
    },
    "nbformat": 4,
    "nbformat_minor": 1
}